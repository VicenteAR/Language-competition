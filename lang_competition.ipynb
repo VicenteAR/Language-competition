{
 "cells": [
  {
   "cell_type": "markdown",
   "metadata": {},
   "source": [
    "# LANGUAGE COMPETITION"
   ]
  },
  {
   "cell_type": "markdown",
   "metadata": {},
   "source": [
    "Language competition study using the mean-filed approximation of the Abrams-Strogatz model. The study is performed on a regular lattice, with social interactions between nearest neighbours. \n",
    "The Abrams-Strogatz model studies the competition between two languages A and B. The language of each individual will change according to some parameters and his/her interactions: \n",
    "1) status or prestige $s$ of the given language     \n",
    "2) volatility $a$  \n",
    "3) number of neighbors $\\sigma$ speaking the language  \n",
    "\n",
    "The dynamics of this model is governed by the following equation: \n",
    "\n",
    "\\begin{equation}\n",
    "\\frac{d \\sigma_A}{d t} = ( \\sigma_B ) p_{BA} - \\sigma_A p_{AB} \n",
    "\\end{equation}\n",
    "\n",
    "where $\\sigma_A$ ($\\sigma_B$) is the proportion of people speaking language $A$ ($B$), $p_{BA}$ reflects the probability to change from language $B$ to language $A$, and $p_{AB}$ is the probability to change from $A$ to $B$: \n",
    "\n",
    "\\begin{equation}\n",
    "p_{AB} = (1-s)\\sigma_B^a\n",
    "\\end{equation}\n",
    "\\begin{equation}\n",
    "p_{BA} = s\\sigma_A^a\n",
    "\\end{equation}\n",
    "\n",
    "The parameter $s$ ranges from $0 \\le s \\le 1$, whereas the parameter $a$ determines the location of the fixed points. We start our model considering a scenario where the two languages have the same prestige $s=0.5$ (i.e., the same number of speakers) and $a=1$. "
   ]
  },
  {
   "cell_type": "markdown",
   "metadata": {},
   "source": [
    "## Usual imports and initial condition"
   ]
  },
  {
   "cell_type": "code",
   "execution_count": 9,
   "metadata": {},
   "outputs": [
    {
     "data": {
      "image/png": "[encoded data removed]",
      "text/plain": [
       "<Figure size 432x288 with 2 Axes>"
      ]
     },
     "metadata": {
      "needs_background": "light"
     },
     "output_type": "display_data"
    }
   ],
   "source": [
    "import numpy as np \n",
    "import matplotlib as mpl \n",
    "import matplotlib.pyplot as plt\n",
    "\n",
    "### INITIAL CONDITION. RANDOMLY DISTRIBUTED LANGUAGES \n",
    "\n",
    "# A (mxn) table is created. Each point represents a citizen speaking language A or language B. The initial condition corresponds to\n",
    "# a randomly distributed scenario with probabilities p( s(i) = A ) = p_a and p( s(i) = B ) = p_b. At the initial point, the two \n",
    "#probabilities are equal. \n",
    "\n",
    "#First step. Initial parameters and conditions ===========================================================================\n",
    "    #Size of the sample and language probabilities \n",
    "m = 15\n",
    "n = 15 \n",
    "pa = .5   #pb = 1.0 - pa\n",
    "\n",
    "    #Initial condition and representation \n",
    "popu = np.ones(shape=(m,n))\n",
    "mask = np.random.rand(m,n)\n",
    "popu[(mask <= (1.0 - pa) ) ] = -1 # Value 1 represents language A speakers. Value -1 represents language B speakers \n",
    "popu = popu.astype(np.int)\n",
    "\n",
    "        #Figure param definition  \n",
    "col = mpl.colors.ListedColormap(['Blue','Red'])\n",
    "colbar_tick = np.array([ -1,1 ])\n",
    "\n",
    "fig = plt.figure()\n",
    "ax  = plt.axes()\n",
    "\n",
    "plot = ax.matshow( popu , cmap = col , origin = 'lower')\n",
    "ax.xaxis.tick_bottom()\n",
    "ax.xaxis.set_major_locator(plt.MultipleLocator(2))\n",
    "ax.yaxis.set_major_locator(plt.MultipleLocator(2))\n",
    "ax.xaxis.set_major_formatter(lambda val, pos : r'{}'.format(int(val)+1) )\n",
    "ax.yaxis.set_major_formatter(lambda val, pos : r'{}'.format(int(val)+1) )\n",
    "fig.colorbar(plot,ax=ax, ticks=colbar_tick , label='Language' ).ax.set_yticklabels(['B', 'A'])\n",
    "\n",
    "    #Number of speakers\n",
    "na = np.count_nonzero(popu[popu > 0])\n",
    "nb = np.count_nonzero(popu[popu < 0])\n",
    "print('error') if nb != (m*n - na)  else None"
   ]
  },
  {
   "cell_type": "markdown",
   "metadata": {},
   "source": [
    "## Language dynamics. Change of individual language"
   ]
  },
  {
   "cell_type": "markdown",
   "metadata": {},
   "source": [
    "Language competition. The language of each individual will change according to parameters $a$, $s$ and the social interactions with his/her neighbors. As mentioned, the probability that determines the change of language is: \n",
    "\n",
    "\\begin{equation}\n",
    "p_{AB} = (1-s)\\sigma_B^a\n",
    "\\end{equation}\n",
    "\\begin{equation}\n",
    "p_{BA} = s\\sigma_A^a\n",
    "\\end{equation}\n",
    "\n",
    "where $\\sigma$ is computed as follows:\n",
    "\n",
    "\\begin{equation}\n",
    "\\sigma_i= \\frac{\\text{number speakers language i}}{\\text{total number neighbors}}\n",
    "\\end{equation}"
   ]
  },
  {
   "cell_type": "code",
   "execution_count": 10,
   "metadata": {},
   "outputs": [
    {
     "name": "stdout",
     "output_type": "stream",
     "text": [
      "second cond -1 0.1724545034402003 0.25 True 1\n",
      "second cond -1 0.9593436042658984 0.25 False -1\n",
      "second cond -1 0.9635069586879228 0.25 False -1\n",
      "8 7 1\n",
      "first cond 1 0.8063193935803445 0.375 False 1\n",
      "12 5 1\n",
      "first cond 1 0.7923754769924224 0.25 False 1\n",
      "11 7 1\n",
      "first cond 1 0.7443175384442676 0.375 False 1\n",
      "second cond -1 0.6364146414901166 0.25 False -1\n",
      "second cond -1 0.79130638367405 0.0 False -1\n",
      "10 0 1\n",
      "first cond 1 0.480336695121388 0.0 False 1\n",
      "0 1 1\n",
      "first cond 1 0.617003371202211 0.125 False 1\n"
     ]
    }
   ],
   "source": [
    "# Steps:\n",
    "# 1) A random node is selected\n",
    "# 2) The language of each neighbor surrounding the node is computed, counting the number of speakers\n",
    "# 3) The probability of change is computed. If the probability is larger than a uniformly distributed random number, the language\n",
    "#    of the selected node is changed\n",
    "# 4) The process is repeated \n",
    "\n",
    "\n",
    "# LANGUAGE DYNAMICS\n",
    "    # Parameters \n",
    "a = 1.0\n",
    "s = 0.5\n",
    "\n",
    "    # Definition function per_bon. We consider a regular lattice with periodic boundary conditions. \n",
    "    # This function is used to apply this condition to the selected node. \n",
    "def per_bon(index,lattice_shape):\n",
    "    \"\"\"\n",
    "    Returns periodic boundary lattice index for a given lattice shape. Arguments 'index' and 'lattice_shape' are 2D-tuples.\n",
    "\n",
    "    Inputs:\n",
    "    index: 2D-tuple. Represents the selected node. \n",
    "    lattice_shape: 2D-tupple. Shape of the lattice. \n",
    "    \"\"\"\n",
    "    return tuple( (i%s for i,s in zip(index,lattice_shape) ) )\n",
    "\n",
    "for iterr in np.arange(10):\n",
    "\n",
    "    # Select random node\n",
    "    ii = np.random.randint(m)\n",
    "    jj = np.random.randint(n)\n",
    "    lang = popu[ii,jj] # Language spoken by the node\n",
    "\n",
    "    # Neighbor language\n",
    "    # Calculation of the languages spoken by the neighbors of the node. In case that the selected node \n",
    "    # is located at the boundaries of the lattice, periodic boundary conditions are applied to the system. \n",
    "\n",
    "    nn = np.array([]) # Array containing the neighbors \n",
    "    nn = np.append( nn , popu[ per_bon( (ii-1,jj), (m,n) ) ] )  # upper neighbor\n",
    "    nn = np.append( nn , popu[ per_bon( (ii+1,jj), (m,n) ) ] )  # lower neighbor\n",
    "    nn = np.append( nn , popu[ per_bon( (ii,jj-1), (m,n) ) ] )  # left neighbor\n",
    "    nn = np.append( nn , popu[ per_bon( (ii,jj+1), (m,n) ) ] )  # right neighbor \n",
    "    nn = nn.astype(np.int)\n",
    "\n",
    "    nA = np.count_nonzero( nn > 0 )/4.0 # Number of language A speakers\n",
    "    nB = 1.0 - nA                       # Number of language B speakers \n",
    "\n",
    "    v = np.random.uniform() # Random value to be compared with the probability that determines the change of language \n",
    "    if lang == 1: \n",
    "        print(ii,jj,popu[ii,jj])\n",
    "        pab = (1.0-s)*nB ** a\n",
    "        popu[ii,jj] = -1  if (v < pab) else popu[ii,jj]\n",
    "        print('first cond',lang,v,pab,v<pab,popu[ii,jj])\n",
    "    else:\n",
    "        pba = s*nA ** a\n",
    "        popu[ii,jj] = 1 if (v < pba) else popu[ii,jj]\n",
    "        print('second cond',lang,v,pba,v<pba,popu[ii,jj])\n",
    "\n",
    "    #print(nn,nA,nB)   \n",
    "    #nn = popu[ii-1 : ii+2 , jj-1 : jj+2]\n",
    "    #nn"
   ]
  },
  {
   "cell_type": "code",
   "execution_count": 11,
   "metadata": {},
   "outputs": [
    {
     "name": "stdout",
     "output_type": "stream",
     "text": [
      "0 1 1\n",
      "[[ 1  1  1 -1  1 -1  1 -1 -1 -1  1  1 -1  1 -1]\n",
      " [-1 -1 -1 -1 -1 -1  1 -1  1 -1 -1 -1  1  1 -1]\n",
      " [ 1  1 -1 -1 -1 -1  1  1 -1  1  1  1  1 -1  1]\n",
      " [ 1  1 -1 -1 -1 -1 -1  1  1 -1  1 -1 -1  1 -1]\n",
      " [-1  1 -1  1  1  1 -1 -1  1 -1 -1  1  1  1 -1]\n",
      " [-1 -1  1  1  1  1  1  1  1  1 -1  1  1 -1  1]\n",
      " [ 1  1 -1 -1  1  1 -1 -1  1 -1 -1  1  1 -1 -1]\n",
      " [ 1 -1 -1  1 -1  1 -1 -1  1 -1 -1 -1  1  1  1]\n",
      " [-1  1  1 -1  1  1  1  1 -1  1  1 -1  1  1  1]\n",
      " [ 1  1  1  1 -1 -1 -1 -1 -1  1 -1  1  1  1 -1]\n",
      " [ 1  1 -1 -1 -1  1 -1  1 -1  1  1  1  1 -1  1]\n",
      " [ 1  1  1 -1 -1  1 -1  1 -1  1  1  1 -1 -1 -1]\n",
      " [-1 -1  1 -1 -1  1  1 -1 -1  1 -1  1  1  1  1]\n",
      " [-1 -1  1  1  1 -1  1 -1 -1  1 -1  1  1 -1 -1]\n",
      " [-1  1 -1  1  1  1 -1  1 -1  1  1 -1 -1  1  1]]\n"
     ]
    }
   ],
   "source": [
    "print(ii,jj,popu[ii,jj])\n",
    "print(popu)"
   ]
  },
  {
   "cell_type": "code",
   "execution_count": 20,
   "metadata": {},
   "outputs": [
    {
     "name": "stdout",
     "output_type": "stream",
     "text": [
      "[[ 1  1  1 -1  1 -1  1 -1 -1 -1  1  1 -1  1 -1]\n",
      " [-1 -1 -1 -1 -1 -1  1 -1  1 -1 -1 -1  1  1 -1]] \n",
      " [[ 1  1  1 -1  1 -1  1 -1 -1 -1  1  1 -1  1 -1]\n",
      " [-1 -1 -1 -1 -1 -1  1 -1  1 -1 -1 -1  1  1 -1]\n",
      " [ 1  1 -1 -1 -1 -1  1  1 -1  1  1  1  1 -1  1]]\n"
     ]
    }
   ],
   "source": [
    "print(popu[0:2,:],'\\n',popu[0:3,:])"
   ]
  },
  {
   "cell_type": "code",
   "execution_count": 16,
   "metadata": {},
   "outputs": [
    {
     "name": "stdout",
     "output_type": "stream",
     "text": [
      "0\n",
      "4\n"
     ]
    }
   ],
   "source": [
    "for i , s in zip((15,4),(15,15)): print(i%s)"
   ]
  },
  {
   "cell_type": "code",
   "execution_count": 57,
   "metadata": {},
   "outputs": [
    {
     "name": "stdout",
     "output_type": "stream",
     "text": [
      "[[61 87 11 51 37]\n",
      " [35 75 97 64 91]\n",
      " [14 19 47  9 16]\n",
      " [32 92 52 21 33]\n",
      " [69 94 64 50 77]]\n",
      "[]\n",
      "92\n",
      "52\n",
      "21\n",
      "33\n"
     ]
    },
    {
     "data": {
      "text/plain": [
       "array([51, 37, 64, 91])"
      ]
     },
     "execution_count": 57,
     "metadata": {},
     "output_type": "execute_result"
    }
   ],
   "source": [
    "a = np.random.randint(100,size=(5,5))\n",
    "print(a)\n",
    "\n",
    "i = 0\n",
    "i_end=5\n",
    "j = 4\n",
    "j_end=5\n",
    "\n",
    "print(a[0 - 1:0+2,3])\n",
    "for ii in a[3,4-3:4+4].flat:\n",
    "    print(ii)\n",
    "    \n",
    "\n",
    "a[max(i-1,0):min(i+2,i_end), max(j-1,0):min(j+2,j_end)].flatte"
   ]
  },
  {
   "cell_type": "code",
   "execution_count": 90,
   "metadata": {},
   "outputs": [
    {
     "name": "stdout",
     "output_type": "stream",
     "text": [
      "[[61 87 11 51 37]\n",
      " [35 75 97 64 91]\n",
      " [14 19 47  9 16]\n",
      " [32 92 52 21 33]\n",
      " [69 94 64 50 77]]\n",
      "21\n",
      "21\n"
     ]
    }
   ],
   "source": [
    "def latticeWrapIdx(index, lattice_shape):\n",
    "    \"\"\"returns periodic lattice index \n",
    "    for a given iterable index\n",
    "    \n",
    "    Required Inputs:\n",
    "        index :: iterable :: one integer for each axis\n",
    "        lattice_shape :: the shape of the lattice to index to\n",
    "    \"\"\"\n",
    "    if not hasattr(index, '__iter__'): return index         # handle integer slices\n",
    "    if len(index) != len(lattice_shape): return index  # must reference a scalar\n",
    "    if any(type(i) == slice for i in index): return index   # slices not supported\n",
    "    if len(index) == len(lattice_shape):               # periodic indexing of scalars\n",
    "        mod_index = tuple(( (i%s + s)%s for i,s in zip(index, lattice_shape)))\n",
    "        return mod_index\n",
    "    raise ValueError('Unexpected index: {}'.format(index))\n",
    "\n",
    "print(a)\n",
    "\n",
    "def mio(index,lattice_shape):\n",
    "    return tuple( (i%s for i,s in zip(index,lattice_shape) ) )\n",
    "\n",
    "print(a[latticeWrapIdx((-17,18),(5,5))])\n",
    "print(a[mio((-17,18),(5,5))])"
   ]
  },
  {
   "cell_type": "code",
   "execution_count": 87,
   "metadata": {},
   "outputs": [
    {
     "data": {
      "text/plain": [
       "-1"
      ]
     },
     "execution_count": 87,
     "metadata": {},
     "output_type": "execute_result"
    }
   ],
   "source": [
    "#for r,s in zip((1,2),(3,4)):\n",
    "#    print(r,s)\n",
    "(-16%-5)"
   ]
  },
  {
   "cell_type": "code",
   "execution_count": 107,
   "metadata": {},
   "outputs": [
    {
     "data": {
      "text/plain": [
       "<matplotlib.colorbar.Colorbar at 0x118db1ca0>"
      ]
     },
     "execution_count": 107,
     "metadata": {},
     "output_type": "execute_result"
    },
    {
     "data": {
      "image/png": "[encoded data removed]",
      "text/plain": [
       "<Figure size 432x288 with 4 Axes>"
      ]
     },
     "metadata": {
      "needs_background": "light"
     },
     "output_type": "display_data"
    }
   ],
   "source": [
    "test = np.arange(1,50)\n",
    "test = np.reshape(test,(7,7))\n",
    "\n",
    "coltest=plt.cm.get_cmap('viridis',49)\n",
    "\n",
    "fig, ax = plt.subplots(1,2)\n",
    "\n",
    "pl1 = ax[0].matshow(test, cmap=coltest )\n",
    "pl2 = ax[1].matshow(test, cmap=coltest, origin = 'lower')\n",
    "ax[0].set( title='Origin upper')\n",
    "ax[1].set( title='Origin lower' )\n",
    "fig.colorbar(pl1, ax=ax[0] )\n",
    "fig.colorbar(pl2, ax=ax[1] )"
   ]
  },
  {
   "cell_type": "code",
   "execution_count": 140,
   "metadata": {},
   "outputs": [
    {
     "data": {
      "image/png": "[encoded data removed]",
      "text/plain": [
       "<Figure size 432x288 with 1 Axes>"
      ]
     },
     "metadata": {
      "needs_background": "light"
     },
     "output_type": "display_data"
    }
   ],
   "source": [
    "a = np.ones(shape=(m*n))\n",
    "mask = np.random.rand(m*n)\n",
    "a [ mask <= pa] = -1\n",
    "b = np.reshape(a,(m,n))\n",
    "\n",
    "fig = plt.figure()\n",
    "ax  = plt.axes()\n",
    "\n",
    "plot = ax.matshow( b , cmap = col , origin = 'lower')"
   ]
  },
  {
   "cell_type": "code",
   "execution_count": 130,
   "metadata": {},
   "outputs": [
    {
     "name": "stdout",
     "output_type": "stream",
     "text": [
      "[3 2 2 6 3 6 4 6 1 1 7 5 4 8 3 1 4 1 7 8 9 7 6 1 2 3 5 9 1 8 6 7 4 4 1 9 4\n",
      " 6 5 4 6 0 0 6 0 4 8 5 2 9 8 6 1 4 2 1 1 2 2 6 6 5 6 2 5 3 4 2 5 4 7 1 9 2\n",
      " 4 6 9 1 9 7 8 0 6 2 1 1 2 7 8 4 8 8 8 9 5 1 9 9 6 0 9 5 3 7 0 8 6 5 0 9 3\n",
      " 2 9 3 3 6 4 8 9 0 6 5 9 8 8 1 3 7 5 0 6 0 1 8 4 9 7 1 9 7 2 3 4 7 3 0 4 0\n",
      " 9 8 4 1 9 2 6 2 7 1 2 9 2 8 5 2 7 2 0 5 4 2 1 5 4 7 2 5 2 7 8 9 6 3 8 1 4\n",
      " 3 3 9 3 5 1 3 2 6 5 2 3 8 1 5 6 2 4 3 9 7 0 7 6 0 4 0 5 8 7 5 0 6 3 2 1 7\n",
      " 7 6 1 0 5 1 6 1 0 8 1 7 5 4 5 3 0 1 6 2 7 3 3 0 2 2 5 1 5 4 3 4 5 7 7 3 9\n",
      " 2 2 7 5 2 7 9 9 8 8 1 5 8 1 2 9 9 5 2 1 9 3 6 3 5 7 0 7 9 5 4 1 5 5 3 5 0\n",
      " 3 2 3 6 9 3 1 5 1 8 1 6 0 4 5 6 4 7 1 6 6 6 5 2 9 4 5 1 1 3 6 2 0 1 2 3 6\n",
      " 3 2 0 4 5 4 4 1 2 5 6 9 7 2 0 2 1 0 1 7 2 8 1 8 5 7 3 4 8 7 1 8 0 4 9 4 2\n",
      " 3 2 6 6 3 8 7 8 6 1 5 4 3 6 4 4 2 8 2 6 6 8 0 5 2 3 2 5 3 0]\n",
      "[[3 2 2 6 3 6 4 6 1 1 7 5 4 8 3 1 4 1 7 8]\n",
      " [9 7 6 1 2 3 5 9 1 8 6 7 4 4 1 9 4 6 5 4]\n",
      " [6 0 0 6 0 4 8 5 2 9 8 6 1 4 2 1 1 2 2 6]\n",
      " [6 5 6 2 5 3 4 2 5 4 7 1 9 2 4 6 9 1 9 7]\n",
      " [8 0 6 2 1 1 2 7 8 4 8 8 8 9 5 1 9 9 6 0]\n",
      " [9 5 3 7 0 8 6 5 0 9 3 2 9 3 3 6 4 8 9 0]\n",
      " [6 5 9 8 8 1 3 7 5 0 6 0 1 8 4 9 7 1 9 7]\n",
      " [2 3 4 7 3 0 4 0 9 8 4 1 9 2 6 2 7 1 2 9]\n",
      " [2 8 5 2 7 2 0 5 4 2 1 5 4 7 2 5 2 7 8 9]\n",
      " [6 3 8 1 4 3 3 9 3 5 1 3 2 6 5 2 3 8 1 5]\n",
      " [6 2 4 3 9 7 0 7 6 0 4 0 5 8 7 5 0 6 3 2]\n",
      " [1 7 7 6 1 0 5 1 6 1 0 8 1 7 5 4 5 3 0 1]\n",
      " [6 2 7 3 3 0 2 2 5 1 5 4 3 4 5 7 7 3 9 2]\n",
      " [2 7 5 2 7 9 9 8 8 1 5 8 1 2 9 9 5 2 1 9]\n",
      " [3 6 3 5 7 0 7 9 5 4 1 5 5 3 5 0 3 2 3 6]\n",
      " [9 3 1 5 1 8 1 6 0 4 5 6 4 7 1 6 6 6 5 2]\n",
      " [9 4 5 1 1 3 6 2 0 1 2 3 6 3 2 0 4 5 4 4]\n",
      " [1 2 5 6 9 7 2 0 2 1 0 1 7 2 8 1 8 5 7 3]\n",
      " [4 8 7 1 8 0 4 9 4 2 3 2 6 6 3 8 7 8 6 1]\n",
      " [5 4 3 6 4 4 2 8 2 6 6 8 0 5 2 3 2 5 3 0]]\n"
     ]
    }
   ],
   "source": [
    "print(a)\n",
    "a = np.reshape(a,(20,20))\n",
    "print(a)"
   ]
  },
  {
   "cell_type": "code",
   "execution_count": 192,
   "metadata": {},
   "outputs": [
    {
     "data": {
      "text/plain": [
       "array([[ 1., -1.,  1., -1., -1., -1., -1.,  1.,  1., -1.],\n",
       "       [-1., -1., -1., -1.,  1.,  1., -1.,  1., -1.,  1.],\n",
       "       [ 1., -1.,  1.,  1.,  1.,  1., -1., -1., -1.,  1.],\n",
       "       [ 1., -1.,  1., -1.,  1., -1.,  1., -1., -1.,  1.],\n",
       "       [-1., -1.,  1., -1.,  1.,  1., -1., -1.,  1.,  1.],\n",
       "       [ 1.,  1., -1.,  1.,  1., -1., -1.,  1., -1.,  1.],\n",
       "       [-1.,  1.,  1., -1.,  1., -1., -1.,  1., -1.,  1.],\n",
       "       [-1.,  1., -1.,  1.,  1., -1., -1.,  1., -1.,  1.],\n",
       "       [ 1.,  1., -1.,  1., -1.,  1.,  1.,  1.,  1., -1.],\n",
       "       [-1.,  1., -1.,  1.,  1., -1., -1., -1.,  1.,  1.]])"
      ]
     },
     "execution_count": 192,
     "metadata": {},
     "output_type": "execute_result"
    }
   ],
   "source": [
    "popu.astype(np.int)\n",
    "popu"
   ]
  },
  {
   "cell_type": "code",
   "execution_count": null,
   "metadata": {},
   "outputs": [],
   "source": []
  }
 ],
 "metadata": {
  "kernelspec": {
   "display_name": "Python 3",
   "language": "python",
   "name": "python3"
  },
  "language_info": {
   "codemirror_mode": {
    "name": "ipython",
    "version": 3
   },
   "file_extension": ".py",
   "mimetype": "text/x-python",
   "name": "python",
   "nbconvert_exporter": "python",
   "pygments_lexer": "ipython3",
   "version": "3.8.5"
  }
 },
 "nbformat": 4,
 "nbformat_minor": 4
}

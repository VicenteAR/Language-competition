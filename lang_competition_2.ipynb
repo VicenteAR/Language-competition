{
 "cells": [
  {
   "cell_type": "markdown",
   "metadata": {},
   "source": [
    "# LANGUAGE COMPETITION"
   ]
  },
  {
   "cell_type": "markdown",
   "metadata": {},
   "source": [
    "Language competition study using the mean-filed approximation of the Abrams-Strogatz model. The study is performed on a regular lattice, with social interactions between nearest neighbours. \n",
    "The Abrams-Strogatz model studies the competition between two languages A and B. The language of each individual will change according to some parameters and his/her interactions: \n",
    "1) status or prestige $s$ of the given language     \n",
    "2) volatility $a$  \n",
    "3) number of neighbors $\\sigma$ speaking the language  \n",
    "\n",
    "The dynamics of this model is governed by the following equation: \n",
    "\n",
    "\\begin{equation}\n",
    "\\frac{d \\sigma_A}{d t} = ( \\sigma_B ) p_{BA} - \\sigma_A p_{AB} \n",
    "\\end{equation}\n",
    "\n",
    "where $\\sigma_A$ ($\\sigma_B$) is the proportion of people speaking language $A$ ($B$), $p_{BA}$ reflects the probability to change from language $B$ to language $A$, and $p_{AB}$ is the probability to change from $A$ to $B$: \n",
    "\n",
    "\\begin{equation}\n",
    "p_{AB} = (1-s)\\sigma_B^a\n",
    "\\end{equation}\n",
    "\\begin{equation}\n",
    "p_{BA} = s\\sigma_A^a\n",
    "\\end{equation}\n",
    "\n",
    "The parameter $s$ ranges from $0 \\le s \\le 1$, whereas the parameter $a$ determines the location of the fixed points. We start our model considering a scenario where one of the languages is more prestigious than the other. As we will see, this will led to the extinction of the less renowned language."
   ]
  },
  {
   "cell_type": "markdown",
   "metadata": {},
   "source": [
    "## Usual imports and initial condition"
   ]
  },
  {
   "cell_type": "code",
   "execution_count": 1,
   "metadata": {},
   "outputs": [
    {
     "data": {
      "image/png": "[encoded data removed]",
      "text/plain": [
       "<Figure size 432x288 with 2 Axes>"
      ]
     },
     "metadata": {
      "needs_background": "light"
     },
     "output_type": "display_data"
    }
   ],
   "source": [
    "import numpy as np \n",
    "import matplotlib as mpl \n",
    "import matplotlib.pyplot as plt\n",
    "\n",
    "# INITIAL CONDITION. RANDOMLY DISTRIBUTED LANGUAGES \n",
    "\n",
    "# A (mxn) table is created. Each point represents a citizen speaking language A or language B. The initial condition corresponds to\n",
    "# a randomly distributed scenario with probabilities p( s(i) = A ) = p_a and p( s(i) = B ) = p_b. At the initial point, the two \n",
    "#probabilities are equal. \n",
    "\n",
    "# First step. Initial parameters and conditions ===========================================================================\n",
    "    # Size of the sample and language probabilities \n",
    "m = 20\n",
    "n = 20 \n",
    "pa = .35   #pb = 1.0 - pa\n",
    "\n",
    "    # Initial condition and representation \n",
    "popu = np.ones(shape=(m,n))\n",
    "mask = np.random.rand(m,n)\n",
    "popu[(mask <= (1.0 - pa) ) ] = -1 # Value 1 represents language A speakers. Value -1 represents language B speakers \n",
    "popu = popu.astype(np.int)\n",
    "    \n",
    "    # Definition function rep. This function represents the individuals and his/her language on a lattice\n",
    "def rep(popu):\n",
    "    \"\"\"\n",
    "    Returns a 2D-representation of the languages spoken by each person. People are represented as the nodes of the lattice. \n",
    "    Languages are pictured by a binary selection of colors (blue, red). \n",
    "\n",
    "    Inputs:\n",
    "    popu: 2D-array containing the language spoken by each node. Values inside the array are [-1,1].\n",
    "    \"\"\"\n",
    "    # Figure param definition  \n",
    "    col = mpl.colors.ListedColormap(['Blue','Red'])\n",
    "    colbar_tick = np.array([ -1,1 ])\n",
    "\n",
    "    fig = plt.figure()\n",
    "    ax  = plt.axes()\n",
    "\n",
    "    plot = ax.matshow( popu , cmap = col , origin = 'lower' , animated=True)\n",
    "    ax.xaxis.tick_bottom()\n",
    "    ax.xaxis.set_major_locator(plt.MultipleLocator(2))\n",
    "    ax.yaxis.set_major_locator(plt.MultipleLocator(2))\n",
    "    ax.xaxis.set_major_formatter(lambda val, pos : r'{}'.format(int(val)+1) )\n",
    "    ax.yaxis.set_major_formatter(lambda val, pos : r'{}'.format(int(val)+1) )\n",
    "    fig.colorbar(plot,ax=ax, ticks=colbar_tick , label='Language' ).ax.set_yticklabels(['B', 'A'])\n",
    "    \n",
    "    plt.close()  # To avoid an excessive computation cost, the graphical representation of the lattice is not displayed. Only the figure instance is returned. \n",
    "    return fig \n",
    "    \n",
    "    # Lattice representation and number of speakers\n",
    "    # Recovery of the graphical representation. We define a dummy figure to recover a graphical interface \n",
    "    # to replace the one that has been destroyed. We will use its manager to display the figure that \n",
    "    # we want to show on-screen.\n",
    "figr = rep(popu)    \n",
    "dummy = plt.figure()\n",
    "new_manager = dummy.canvas.manager\n",
    "new_manager.canvas.figure = figr\n",
    "figr.set_canvas(new_manager.canvas)\n",
    "plt.show(figr)\n",
    "\n",
    "na = np.count_nonzero(popu[popu > 0])\n",
    "nb = np.count_nonzero(popu[popu < 0])\n",
    "print('error') if nb != (m*n - na)  else None"
   ]
  },
  {
   "cell_type": "markdown",
   "metadata": {},
   "source": [
    "## Language dynamics. Change of individual language"
   ]
  },
  {
   "cell_type": "markdown",
   "metadata": {},
   "source": [
    "Language competition. The language of each individual will change according to parameters $a$, $s$ and the social interactions with his/her neighbors. As mentioned, the probability that determines the change of language is: \n",
    "\n",
    "\\begin{equation}\n",
    "p_{AB} = (1-s)\\sigma_B^a\n",
    "\\end{equation}\n",
    "\\begin{equation}\n",
    "p_{BA} = s\\sigma_A^a\n",
    "\\end{equation}\n",
    "\n",
    "where $\\sigma$ is computed as follows:\n",
    "\n",
    "\\begin{equation}\n",
    "\\sigma_i= \\frac{\\text{number speakers language i}}{\\text{total number neighbors}}\n",
    "\\end{equation}"
   ]
  },
  {
   "cell_type": "code",
   "execution_count": 2,
   "metadata": {},
   "outputs": [],
   "source": [
    "# Steps:\n",
    "# 1) A random node is selected\n",
    "# 2) The language of each neighbor surrounding the node is computed, counting the number of speakers\n",
    "# 3) The probability of change is computed. If the probability is larger than a uniformly distributed random number, the language\n",
    "#    of the selected node is changed\n",
    "# 4) The process is repeated \n",
    "\n",
    "    # Definition function per_bon. We consider a regular lattice with periodic boundary conditions. \n",
    "    # This function is used to apply this condition to the selected node. \n",
    "def per_bon(index,lattice_shape):\n",
    "    \"\"\"\n",
    "    Returns periodic boundary lattice index for a given lattice shape. Arguments 'index' and 'lattice_shape' are 2D-tuples.\n",
    "\n",
    "    Inputs:\n",
    "    index: 2D-tuple. Represents the selected node. \n",
    "    lattice_shape: 2D-tupple. Shape of the lattice. \n",
    "    \"\"\"\n",
    "    return tuple( (i%s for i,s in zip(index,lattice_shape) ) )\n",
    "\n",
    "# LANGUAGE DYNAMICS\n",
    "    # Parameters \n",
    "a = 1.0\n",
    "s = 0.75\n",
    "mult  = 15\n",
    "maxit = mult * 300  # Maximum number of iterations. This number is selected as a multiple of 'mult' (information \n",
    "                    # will be stored every 'mult' steps) \n",
    "numsp = np.ones(shape=( int(maxit/mult) , 2 ) )  # 'Number of speakers' container \n",
    "\n",
    "    # Language evolution. The possibility of change is evaluated at each step. \n",
    "for iterr in np.arange(maxit):\n",
    "\n",
    "    # Select random node\n",
    "    ii = np.random.randint(m)\n",
    "    jj = np.random.randint(n)\n",
    "    lang = popu[ii,jj] # Language spoken by the node\n",
    "\n",
    "    # Neighbor language\n",
    "    # Calculation of the languages spoken by the neighbors of the node. In case that the selected node \n",
    "    # is located at the boundaries of the lattice, periodic boundary conditions are applied to the system. \n",
    "\n",
    "    nn = np.array([]) # Array containing the neighbors \n",
    "    nn = np.append( nn , popu[ per_bon( (ii-1,jj), (m,n) ) ] )  # upper neighbor\n",
    "    nn = np.append( nn , popu[ per_bon( (ii+1,jj), (m,n) ) ] )  # lower neighbor\n",
    "    nn = np.append( nn , popu[ per_bon( (ii,jj-1), (m,n) ) ] )  # left neighbor\n",
    "    nn = np.append( nn , popu[ per_bon( (ii,jj+1), (m,n) ) ] )  # right neighbor \n",
    "    nn = nn.astype(np.int)\n",
    "\n",
    "    nA = np.count_nonzero( nn > 0 )/4.0 # Number A speakers\n",
    "    nB = 1.0 - nA                       # Number B speakers \n",
    "\n",
    "    v = np.random.uniform() # Random value to be compared with the probability that determines the change of language \n",
    "    if lang == 1: \n",
    "        pab = (1.0-s)*nB ** a\n",
    "        popu[ii,jj] = -1  if (v < pab) else popu[ii,jj]\n",
    "    else:\n",
    "        pba = s*nA ** a\n",
    "        popu[ii,jj] = 1 if (v < pba) else popu[ii,jj]\n",
    "        \n",
    "    # Saving process. The number of speakers is stored inside the container. A graphical representation of \n",
    "    # the lattice is saved as a file.\n",
    "    numa = np.count_nonzero(popu[popu > 0])\n",
    "    numb = np.count_nonzero(popu[popu < 0])\n",
    "    \n",
    "    if (iterr%mult) == 0:\n",
    "        ph = int(iterr/mult)\n",
    "        numsp[ph] = np.array([ numa , numb ])\n",
    "        figr = rep(popu)\n",
    "        figr.savefig('lang_comp_{}.png'.format( str(ph) ),bbox_inches='tight')\n",
    "    else:\n",
    "        None\n",
    "    \n",
    "    # Exit process. We can stop the iterative process if the number of people speaking a language is zero (the language has died)\n",
    "    if (numa == 0 or numb == 0):\n",
    "        break\n",
    "    else:\n",
    "        None\n",
    "        \n"
   ]
  },
  {
   "cell_type": "markdown",
   "metadata": {},
   "source": [
    "## Final result. Language distribution"
   ]
  },
  {
   "cell_type": "code",
   "execution_count": 3,
   "metadata": {},
   "outputs": [
    {
     "data": {
      "image/png": "[encoded data removed]",
      "text/plain": [
       "<Figure size 432x288 with 2 Axes>"
      ]
     },
     "metadata": {
      "needs_background": "light"
     },
     "output_type": "display_data"
    }
   ],
   "source": [
    "# Representation of the lattice final state \n",
    "figr=rep(popu)\n",
    "dummy = plt.figure()\n",
    "new_manager = dummy.canvas.manager\n",
    "new_manager.canvas.figure = figr\n",
    "figr.set_canvas(new_manager.canvas)\n",
    "plt.show(figr)"
   ]
  },
  {
   "cell_type": "code",
   "execution_count": 4,
   "metadata": {},
   "outputs": [
    {
     "data": {
      "text/plain": [
       "<matplotlib.legend.Legend at 0x7f87f4c94850>"
      ]
     },
     "execution_count": 4,
     "metadata": {},
     "output_type": "execute_result"
    },
    {
     "data": {
      "image/png": "[encoded data removed]",
      "text/plain": [
       "<Figure size 432x288 with 1 Axes>"
      ]
     },
     "metadata": {
      "needs_background": "light"
     },
     "output_type": "display_data"
    }
   ],
   "source": [
    "fig, ax = plt.subplots()\n",
    "ax.plot( numsp[:,0] , c='red' , linestyle='solid', marker='o' , linewidth=1.5 , markersize=5.5 , label='Lang A')\n",
    "ax.plot( numsp[:,1] , c='blue', linestyle='solid', marker='x' , linewidth=1.5 , markersize=5.5 , label='Lang B')\n",
    "ax.xaxis.set_major_formatter(lambda val, pos : r'{}'.format(int(val)*mult) )\n",
    "ax.set( xlabel='Iteration' , ylabel='Number speakers' , title='Number of speakers as a function of time')\n",
    "ax.legend(loc='upper left')"
   ]
  },
  {
   "cell_type": "markdown",
   "metadata": {},
   "source": [
    "As expected, the less renowned language tends to disappear. Fewer people speak this language as time goes by. The number of individuals speaking the language with more prestige increases with time. Even starting in a less favorable situation (the language A being less spoken), the importance (or influence) of this language over the other is sufficient to overcome this circumstance and become the principal preference among the speakers (how quickly this language dominates over the other depends on the parameter $s$). "
   ]
  },
  {
   "cell_type": "code",
   "execution_count": null,
   "metadata": {},
   "outputs": [],
   "source": []
  }
 ],
 "metadata": {
  "kernelspec": {
   "display_name": "Python 3",
   "language": "python",
   "name": "python3"
  },
  "language_info": {
   "codemirror_mode": {
    "name": "ipython",
    "version": 3
   },
   "file_extension": ".py",
   "mimetype": "text/x-python",
   "name": "python",
   "nbconvert_exporter": "python",
   "pygments_lexer": "ipython3",
   "version": "3.8.5"
  }
 },
 "nbformat": 4,
 "nbformat_minor": 4
}
